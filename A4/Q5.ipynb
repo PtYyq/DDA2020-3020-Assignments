{
 "cells": [
  {
   "cell_type": "code",
   "execution_count": 2,
   "id": "d1f8fed9",
   "metadata": {},
   "outputs": [],
   "source": [
    "from sklearn.decomposition import PCA\n",
    "import numpy as np"
   ]
  },
  {
   "cell_type": "code",
   "execution_count": 3,
   "id": "bfbcf198",
   "metadata": {},
   "outputs": [
    {
     "data": {
      "text/plain": [
       "array([[ 2,  0,  1, -3, -2],\n",
       "       [ 0,  2, -3, -3, -2],\n",
       "       [ 1,  2,  1,  3, -2],\n",
       "       [-1,  1,  3,  2, -1],\n",
       "       [ 1,  0,  1, -1,  1],\n",
       "       [ 2,  3, -1,  1, -2],\n",
       "       [-2,  3, -3,  3,  2],\n",
       "       [-2, -2,  2,  3, -2],\n",
       "       [-2, -3,  1, -2, -3],\n",
       "       [-3,  2,  0, -1, -2]])"
      ]
     },
     "execution_count": 3,
     "metadata": {},
     "output_type": "execute_result"
    }
   ],
   "source": [
    "X = np.array([[2,0,1,-3,-2],[0,2,-3,-3,-2],[1,2,1,3,-2],[-1,1,3,2,-1],[1,0,1,-1,1],\n",
    "              [2,3,-1,1,-2],[-2,3,-3,3,2],[-2,-2,2,3,-2],[-2,-3,1,-2,-3],[-3,2,0,-1,-2]])\n",
    "X"
   ]
  },
  {
   "cell_type": "code",
   "execution_count": 28,
   "id": "9417691b",
   "metadata": {},
   "outputs": [
    {
     "data": {
      "text/plain": [
       "array([[ 2,  0,  1, -1,  1,  2, -2, -2, -2, -3],\n",
       "       [ 0,  2,  2,  1,  0,  3,  3, -2, -3,  2],\n",
       "       [ 1, -3,  1,  3,  1, -1, -3,  2,  1,  0],\n",
       "       [-3, -3,  3,  2, -1,  1,  3,  3, -2, -1],\n",
       "       [-2, -2, -2, -1,  1, -2,  2, -2, -3, -2]])"
      ]
     },
     "execution_count": 28,
     "metadata": {},
     "output_type": "execute_result"
    }
   ],
   "source": [
    "X.T"
   ]
  },
  {
   "cell_type": "code",
   "execution_count": 8,
   "id": "cfbc38ba",
   "metadata": {},
   "outputs": [
    {
     "data": {
      "text/plain": [
       "array([-0.4,  0.8,  0.2,  0.2, -1.3])"
      ]
     },
     "execution_count": 8,
     "metadata": {},
     "output_type": "execute_result"
    }
   ],
   "source": [
    "m = np.mean(X,axis=0)\n",
    "m"
   ]
  },
  {
   "cell_type": "code",
   "execution_count": 9,
   "id": "3942cbfa",
   "metadata": {},
   "outputs": [
    {
     "data": {
      "text/plain": [
       "array([[ 3.04,  0.82, -0.02, -0.82, -0.12],\n",
       "       [ 0.82,  3.76, -2.16,  1.04,  1.04],\n",
       "       [-0.02, -2.16,  3.56,  0.76, -0.84],\n",
       "       [-0.82,  1.04,  0.76,  5.56,  1.16],\n",
       "       [-0.12,  1.04, -0.84,  1.16,  2.21]])"
      ]
     },
     "execution_count": 9,
     "metadata": {},
     "output_type": "execute_result"
    }
   ],
   "source": [
    "u = 0\n",
    "for i in range(X.shape[0]):\n",
    "    u = u + np.matmul((X[i]-m).reshape(5,1),(X[i]-m).reshape(1,5))\n",
    "u/=10\n",
    "u"
   ]
  },
  {
   "cell_type": "code",
   "execution_count": 10,
   "id": "0c174988",
   "metadata": {},
   "outputs": [
    {
     "data": {
      "text/plain": [
       "array([[-0.02625442,  0.29809153, -0.87848693,  0.16894209, -0.33192081],\n",
       "       [ 0.57873744,  0.39493632, -0.17625638, -0.33313495,  0.60584079],\n",
       "       [-0.32862419, -0.58025264, -0.40532527,  0.08283824,  0.61980825],\n",
       "       [ 0.65356276, -0.64618454, -0.14382432, -0.15734291, -0.33144989],\n",
       "       [ 0.35949345,  0.03031732,  0.11054589,  0.91041788,  0.16960016]])"
      ]
     },
     "execution_count": 10,
     "metadata": {},
     "output_type": "execute_result"
    }
   ],
   "source": [
    "U,e,UT = np.linalg.svd(u)\n",
    "U"
   ]
  },
  {
   "cell_type": "code",
   "execution_count": 11,
   "id": "88b1b0eb",
   "metadata": {},
   "outputs": [
    {
     "data": {
      "text/plain": [
       "array([6.76978985, 5.93067614, 3.07614543, 1.53027334, 0.82311524])"
      ]
     },
     "execution_count": 11,
     "metadata": {},
     "output_type": "execute_result"
    }
   ],
   "source": [
    "e"
   ]
  },
  {
   "cell_type": "code",
   "execution_count": 21,
   "id": "436a2a23",
   "metadata": {},
   "outputs": [
    {
     "data": {
      "text/plain": [
       "0.9999999999999991"
      ]
     },
     "execution_count": 21,
     "metadata": {},
     "output_type": "execute_result"
    }
   ],
   "source": [
    "a = 0\n",
    "for i in range(5):\n",
    "    a += U[1,i]**2\n",
    "a"
   ]
  },
  {
   "cell_type": "code",
   "execution_count": 23,
   "id": "172eb051",
   "metadata": {},
   "outputs": [
    {
     "data": {
      "text/plain": [
       "array([[-0.02625442,  0.29809153],\n",
       "       [ 0.57873744,  0.39493632],\n",
       "       [-0.32862419, -0.58025264],\n",
       "       [ 0.65356276, -0.64618454],\n",
       "       [ 0.35949345,  0.03031732]])"
      ]
     },
     "execution_count": 23,
     "metadata": {},
     "output_type": "execute_result"
    }
   ],
   "source": [
    "l = U[:,:2]\n",
    "l"
   ]
  },
  {
   "cell_type": "code",
   "execution_count": 32,
   "id": "271304b1",
   "metadata": {},
   "outputs": [],
   "source": [
    "x = np.matmul(l.T,X.T)"
   ]
  },
  {
   "cell_type": "code",
   "execution_count": 33,
   "id": "65de8cae",
   "metadata": {},
   "outputs": [
    {
     "data": {
      "text/plain": [
       "array([[-3.06080821,  1.89384941],\n",
       "       [-0.53632771,  4.40854957],\n",
       "       [ 2.04429764, -1.49147674],\n",
       "       [ 0.56675136, -2.96659955],\n",
       "       [-0.64894792,  0.39434076],\n",
       "       [ 1.94690352,  1.6544255 ],\n",
       "       [ 5.45426892,  0.45146485],\n",
       "       [-0.52051305, -4.54574929],\n",
       "       [-4.39793354, -1.15982757],\n",
       "       [-0.1363115 ,  0.48114794]])"
      ]
     },
     "execution_count": 33,
     "metadata": {},
     "output_type": "execute_result"
    }
   ],
   "source": [
    "x.T"
   ]
  },
  {
   "cell_type": "code",
   "execution_count": 39,
   "id": "4cac38c0",
   "metadata": {},
   "outputs": [
    {
     "data": {
      "text/plain": [
       "array([-0.4,  0.8,  0.2,  0.2, -1.3])"
      ]
     },
     "execution_count": 39,
     "metadata": {},
     "output_type": "execute_result"
    }
   ],
   "source": [
    "m"
   ]
  },
  {
   "cell_type": "code",
   "execution_count": 42,
   "id": "4f5f3340",
   "metadata": {},
   "outputs": [
    {
     "data": {
      "text/plain": [
       "array([-3.13194616,  1.98183693])"
      ]
     },
     "execution_count": 42,
     "metadata": {},
     "output_type": "execute_result"
    }
   ],
   "source": [
    "l.T.dot(X[0]-m)"
   ]
  },
  {
   "cell_type": "code",
   "execution_count": 43,
   "id": "9bc8be4c",
   "metadata": {},
   "outputs": [
    {
     "name": "stdout",
     "output_type": "stream",
     "text": [
      "[-3.13194616  1.98183693]\n",
      "[-0.60746566  4.49653708]\n",
      "[ 1.97315969 -1.40348923]\n",
      "[ 0.4956134  -2.87861204]\n",
      "[-0.72008587  0.48232827]\n",
      "[1.87576557 1.74241301]\n",
      "[5.38313097 0.53945236]\n",
      "[-0.591651   -4.45776178]\n",
      "[-4.46907149 -1.07184006]\n",
      "[-0.20744945  0.56913546]\n"
     ]
    }
   ],
   "source": [
    "for i in range(10):\n",
    "    print(l.T.dot(X[i]-m))"
   ]
  },
  {
   "cell_type": "code",
   "execution_count": 47,
   "id": "2106363c",
   "metadata": {},
   "outputs": [
    {
     "data": {
      "text/plain": [
       "array([[-3.13194616,  1.98183693],\n",
       "       [-0.60746566,  4.49653708],\n",
       "       [ 1.97315969, -1.40348923],\n",
       "       [ 0.4956134 , -2.87861204],\n",
       "       [-0.72008587,  0.48232827],\n",
       "       [ 1.87576557,  1.74241301],\n",
       "       [ 5.38313097,  0.53945236],\n",
       "       [-0.591651  , -4.45776178],\n",
       "       [-4.46907149, -1.07184006],\n",
       "       [-0.20744945,  0.56913546]])"
      ]
     },
     "execution_count": 47,
     "metadata": {},
     "output_type": "execute_result"
    }
   ],
   "source": [
    "PCA(2).fit_transform(X)"
   ]
  },
  {
   "cell_type": "code",
   "execution_count": null,
   "id": "5971dbb3",
   "metadata": {},
   "outputs": [],
   "source": []
  }
 ],
 "metadata": {
  "kernelspec": {
   "display_name": "Python 3",
   "language": "python",
   "name": "python3"
  },
  "language_info": {
   "codemirror_mode": {
    "name": "ipython",
    "version": 3
   },
   "file_extension": ".py",
   "mimetype": "text/x-python",
   "name": "python",
   "nbconvert_exporter": "python",
   "pygments_lexer": "ipython3",
   "version": "3.8.8"
  }
 },
 "nbformat": 4,
 "nbformat_minor": 5
}
