{
 "cells": [
  {
   "cell_type": "code",
   "execution_count": 3,
   "id": "c474c152",
   "metadata": {},
   "outputs": [],
   "source": [
    "from sklearn.svm import LinearSVC\n",
    "from sklearn import svm\n",
    "from sklearn.multiclass import OneVsRestClassifier"
   ]
  },
  {
   "cell_type": "code",
   "execution_count": 11,
   "id": "56700fa2",
   "metadata": {},
   "outputs": [],
   "source": [
    "cl = OneVsRestClassifier(svm.SVC(C=0.1,kernel='linear'))"
   ]
  },
  {
   "cell_type": "code",
   "execution_count": 12,
   "id": "593dd138",
   "metadata": {},
   "outputs": [
    {
     "data": {
      "text/plain": [
       "OneVsRestClassifier(estimator=SVC(C=1, kernel='linear'))"
      ]
     },
     "execution_count": 12,
     "metadata": {},
     "output_type": "execute_result"
    }
   ],
   "source": [
    "a = [[0,1],[1,0],[2,0]]\n",
    "b = [0,1,2]\n",
    "cl.fit(a,b)"
   ]
  },
  {
   "cell_type": "code",
   "execution_count": 20,
   "id": "e8ff8326",
   "metadata": {},
   "outputs": [
    {
     "data": {
      "text/plain": [
       "SVC(C=1, kernel='linear')"
      ]
     },
     "execution_count": 20,
     "metadata": {},
     "output_type": "execute_result"
    }
   ],
   "source": [
    "cl.estimators_[0]"
   ]
  },
  {
   "cell_type": "code",
   "execution_count": 13,
   "id": "9a1b63f1",
   "metadata": {},
   "outputs": [
    {
     "name": "stderr",
     "output_type": "stream",
     "text": [
      "/Users/yuyongqi/opt/anaconda3/lib/python3.8/site-packages/sklearn/utils/deprecation.py:101: FutureWarning: Attribute coef_ was deprecated in version 0.24 and will be removed in 1.1 (renaming of 0.26). If you observe this warning while using RFE or SelectFromModel, use the importance_getter parameter instead.\n",
      "  warnings.warn(msg, category=FutureWarning)\n"
     ]
    },
    {
     "data": {
      "text/plain": [
       "array([[-1. ,  1. ],\n",
       "       [-0.2, -0.4],\n",
       "       [ 1. ,  0. ]])"
      ]
     },
     "execution_count": 13,
     "metadata": {},
     "output_type": "execute_result"
    }
   ],
   "source": [
    "cl.coef_"
   ]
  },
  {
   "cell_type": "code",
   "execution_count": 14,
   "id": "7db97c49",
   "metadata": {},
   "outputs": [
    {
     "name": "stderr",
     "output_type": "stream",
     "text": [
      "/Users/yuyongqi/opt/anaconda3/lib/python3.8/site-packages/sklearn/utils/deprecation.py:101: FutureWarning: Attribute intercept_ was deprecated in version 0.24 and will be removed in 1.1 (renaming of 0.26). If you observe this warning while using RFE or SelectFromModel, use the importance_getter parameter instead.\n",
      "  warnings.warn(msg, category=FutureWarning)\n"
     ]
    },
    {
     "data": {
      "text/plain": [
       "array([[-0. ],\n",
       "       [-0.6],\n",
       "       [-1.5]])"
      ]
     },
     "execution_count": 14,
     "metadata": {},
     "output_type": "execute_result"
    }
   ],
   "source": [
    "cl.intercept_"
   ]
  },
  {
   "cell_type": "code",
   "execution_count": 15,
   "id": "e6018b2d",
   "metadata": {},
   "outputs": [
    {
     "data": {
      "text/plain": [
       "array([[-0.66666511,  0.66666605],\n",
       "       [-0.27847885, -0.78480485],\n",
       "       [ 0.58227535, -0.17722724]])"
      ]
     },
     "execution_count": 15,
     "metadata": {},
     "output_type": "execute_result"
    }
   ],
   "source": [
    "cl1 = LinearSVC(C=1)\n",
    "cl1.fit(a,b)\n",
    "cl1.coef_"
   ]
  },
  {
   "cell_type": "code",
   "execution_count": 18,
   "id": "574231b8",
   "metadata": {},
   "outputs": [
    {
     "data": {
      "text/plain": [
       "array([ 9.31156009e-07,  1.77199092e-01, -7.34159137e-01])"
      ]
     },
     "execution_count": 18,
     "metadata": {},
     "output_type": "execute_result"
    }
   ],
   "source": [
    "cl1.intercept_"
   ]
  },
  {
   "cell_type": "code",
   "execution_count": 17,
   "id": "ee2f2de3",
   "metadata": {},
   "outputs": [
    {
     "data": {
      "text/plain": [
       "array([[-1. ,  1. ],\n",
       "       [-0.8,  0.4],\n",
       "       [-1. ,  0. ]])"
      ]
     },
     "execution_count": 17,
     "metadata": {},
     "output_type": "execute_result"
    }
   ],
   "source": [
    "cl2 = svm.SVC(C=1,kernel = 'linear')\n",
    "cl2.fit(a,b)\n",
    "cl2.coef_"
   ]
  },
  {
   "cell_type": "code",
   "execution_count": 21,
   "id": "74b4cb5f",
   "metadata": {},
   "outputs": [
    {
     "data": {
      "text/plain": [
       "array([0. , 0.6, 1.5])"
      ]
     },
     "execution_count": 21,
     "metadata": {},
     "output_type": "execute_result"
    }
   ],
   "source": [
    "cl2.intercept_"
   ]
  },
  {
   "cell_type": "code",
   "execution_count": 16,
   "id": "5afe7383",
   "metadata": {},
   "outputs": [
    {
     "data": {
      "text/plain": [
       "array([ 9.31156009e-07,  1.77199092e-01, -7.34159137e-01])"
      ]
     },
     "execution_count": 16,
     "metadata": {},
     "output_type": "execute_result"
    }
   ],
   "source": [
    "cl1.intercept_"
   ]
  },
  {
   "cell_type": "code",
   "execution_count": 16,
   "id": "7f632f14",
   "metadata": {},
   "outputs": [
    {
     "data": {
      "text/plain": [
       "array([ 1, -1, -1])"
      ]
     },
     "execution_count": 16,
     "metadata": {},
     "output_type": "execute_result"
    }
   ],
   "source": [
    "cl.predict([[1.49,0],[1.51,0],[0,100]])"
   ]
  },
  {
   "cell_type": "code",
   "execution_count": 11,
   "id": "7b6eed9f",
   "metadata": {},
   "outputs": [
    {
     "data": {
      "text/plain": [
       "array([[-1.,  1.]])"
      ]
     },
     "execution_count": 11,
     "metadata": {},
     "output_type": "execute_result"
    }
   ],
   "source": [
    "cl.estimators_[0].coef_"
   ]
  },
  {
   "cell_type": "code",
   "execution_count": 18,
   "id": "e20ee92b",
   "metadata": {},
   "outputs": [
    {
     "data": {
      "text/plain": [
       "array([-1.00032552,  0.99967448, -0.99934896])"
      ]
     },
     "execution_count": 18,
     "metadata": {},
     "output_type": "execute_result"
    }
   ],
   "source": [
    "cl.decision_function(a)"
   ]
  },
  {
   "cell_type": "code",
   "execution_count": 19,
   "id": "ceb55326",
   "metadata": {},
   "outputs": [],
   "source": [
    "al = cl.dual_coef_"
   ]
  },
  {
   "cell_type": "code",
   "execution_count": 20,
   "id": "5c6628e4",
   "metadata": {},
   "outputs": [
    {
     "data": {
      "text/plain": [
       "array([[-3.99902344, -5.99804688,  9.99707031]])"
      ]
     },
     "execution_count": 20,
     "metadata": {},
     "output_type": "execute_result"
    }
   ],
   "source": [
    "al"
   ]
  },
  {
   "cell_type": "code",
   "execution_count": 21,
   "id": "edf56345",
   "metadata": {},
   "outputs": [
    {
     "data": {
      "text/plain": [
       "array([2.99869792])"
      ]
     },
     "execution_count": 21,
     "metadata": {},
     "output_type": "execute_result"
    }
   ],
   "source": [
    "cl.intercept_"
   ]
  },
  {
   "cell_type": "code",
   "execution_count": 16,
   "id": "bd8dc60a",
   "metadata": {},
   "outputs": [
    {
     "data": {
      "text/plain": [
       "SVC(C=100000.0, kernel='linear')"
      ]
     },
     "execution_count": 16,
     "metadata": {},
     "output_type": "execute_result"
    }
   ],
   "source": [
    "d = [0,1,0]\n",
    "c = svm.SVC(C=1e5,kernel='linear')\n",
    "c.fit(a,d)"
   ]
  },
  {
   "cell_type": "code",
   "execution_count": 7,
   "id": "4b221cec",
   "metadata": {},
   "outputs": [
    {
     "data": {
      "text/plain": [
       "array([[ 1., -1.]])"
      ]
     },
     "execution_count": 7,
     "metadata": {},
     "output_type": "execute_result"
    }
   ],
   "source": [
    "c.coef_"
   ]
  },
  {
   "cell_type": "code",
   "execution_count": 9,
   "id": "c11de7eb",
   "metadata": {},
   "outputs": [
    {
     "data": {
      "text/plain": [
       "array([-0.])"
      ]
     },
     "execution_count": 9,
     "metadata": {},
     "output_type": "execute_result"
    }
   ],
   "source": [
    "c.intercept_"
   ]
  },
  {
   "cell_type": "code",
   "execution_count": 18,
   "id": "1a3895c8",
   "metadata": {},
   "outputs": [
    {
     "data": {
      "text/plain": [
       "array([[-1. ,  1. ],\n",
       "       [-0.8,  0.4],\n",
       "       [-2. ,  0. ]])"
      ]
     },
     "execution_count": 18,
     "metadata": {},
     "output_type": "execute_result"
    }
   ],
   "source": [
    "c = svm.SVC(C=1e5,kernel='linear')\n",
    "c.fit(a,b)\n",
    "c.coef_"
   ]
  },
  {
   "cell_type": "code",
   "execution_count": 24,
   "id": "b5e51ed3",
   "metadata": {},
   "outputs": [],
   "source": [
    "p=cl.estimators_"
   ]
  },
  {
   "cell_type": "code",
   "execution_count": 26,
   "id": "e4ab4814",
   "metadata": {},
   "outputs": [
    {
     "data": {
      "text/plain": [
       "array([[-1.,  1.]])"
      ]
     },
     "execution_count": 26,
     "metadata": {},
     "output_type": "execute_result"
    }
   ],
   "source": [
    "p[0].coef_"
   ]
  },
  {
   "cell_type": "code",
   "execution_count": 23,
   "id": "9af1b141",
   "metadata": {},
   "outputs": [
    {
     "data": {
      "text/plain": [
       "array([0, 2, 1], dtype=int32)"
      ]
     },
     "execution_count": 23,
     "metadata": {},
     "output_type": "execute_result"
    }
   ],
   "source": [
    "c.fit(a,d)\n",
    "c.coef_\n",
    "c.support_"
   ]
  },
  {
   "cell_type": "code",
   "execution_count": null,
   "id": "f4044c1a",
   "metadata": {},
   "outputs": [],
   "source": [
    "# def aggregate(target,labels):\n",
    "#     result = []\n",
    "#     for i in range(len(labels)):\n",
    "#         if labels[i] != target:\n",
    "#             result.append(-1)\n",
    "#         else:\n",
    "#             result.append(target)\n",
    "#     return result\n",
    "# def predict(classifiers,X):\n",
    "#     s = []\n",
    "#     result = []\n",
    "#     for cl in classifiers:\n",
    "#         s.append(cl.predict(X))\n",
    "#     length = len(s[0])\n",
    "#     for i in range(length):\n",
    "#         for j in s:"
   ]
  },
  {
   "cell_type": "code",
   "execution_count": 4,
   "id": "ce622312",
   "metadata": {},
   "outputs": [
    {
     "name": "stdout",
     "output_type": "stream",
     "text": [
      "1, 2, 3\n"
     ]
    }
   ],
   "source": [
    "a = [[1,2,3]]\n",
    "print(str(a).strip('[]'))"
   ]
  },
  {
   "cell_type": "code",
   "execution_count": 7,
   "id": "82450444",
   "metadata": {},
   "outputs": [],
   "source": [
    "css=svm.SVC(C=1e5,kernel='poly2')"
   ]
  },
  {
   "cell_type": "code",
   "execution_count": 25,
   "id": "5b39f3a5",
   "metadata": {},
   "outputs": [
    {
     "data": {
      "text/plain": [
       "array([[1., 0., 1., 0., 0., 1., 0., 0., 0., 1.],\n",
       "       [1., 1., 0., 1., 0., 0., 1., 0., 0., 0.],\n",
       "       [1., 2., 0., 4., 0., 0., 8., 0., 0., 0.]])"
      ]
     },
     "execution_count": 25,
     "metadata": {},
     "output_type": "execute_result"
    }
   ],
   "source": [
    "from sklearn.preprocessing import PolynomialFeatures\n",
    "poly = PolynomialFeatures(3)\n",
    "poly.fit_transform(a)"
   ]
  },
  {
   "cell_type": "code",
   "execution_count": 26,
   "id": "d2ce575f",
   "metadata": {},
   "outputs": [
    {
     "data": {
      "text/plain": [
       "PolynomialFeatures(degree=3)"
      ]
     },
     "execution_count": 26,
     "metadata": {},
     "output_type": "execute_result"
    }
   ],
   "source": [
    "poly"
   ]
  },
  {
   "cell_type": "code",
   "execution_count": 32,
   "id": "3e1f606f",
   "metadata": {},
   "outputs": [],
   "source": [
    "css=svm.SVC(C=1,kernel='poly')"
   ]
  },
  {
   "cell_type": "code",
   "execution_count": 33,
   "id": "de8cf88b",
   "metadata": {},
   "outputs": [
    {
     "data": {
      "text/plain": [
       "SVC(C=1, kernel='poly')"
      ]
     },
     "execution_count": 33,
     "metadata": {},
     "output_type": "execute_result"
    }
   ],
   "source": [
    "css.fit(a,b)"
   ]
  },
  {
   "cell_type": "code",
   "execution_count": 34,
   "id": "45fc963f",
   "metadata": {},
   "outputs": [
    {
     "data": {
      "text/plain": [
       "array([[0.66646624, 0.66661656]])"
      ]
     },
     "execution_count": 34,
     "metadata": {},
     "output_type": "execute_result"
    }
   ],
   "source": [
    "s=svm.SVC(C=1e5,kernel='linear')\n",
    "a = [[0,1],[1,0],[4,0],[0,4]]\n",
    "b = [-1,-1,1,1]\n",
    "s.fit(a,b)\n",
    "s.coef_"
   ]
  },
  {
   "cell_type": "code",
   "execution_count": 35,
   "id": "c7bdd2e9",
   "metadata": {},
   "outputs": [
    {
     "data": {
      "text/plain": [
       "array([-1.66635351])"
      ]
     },
     "execution_count": 35,
     "metadata": {},
     "output_type": "execute_result"
    }
   ],
   "source": [
    "s.intercept_"
   ]
  },
  {
   "cell_type": "code",
   "execution_count": 36,
   "id": "bf4531bd",
   "metadata": {},
   "outputs": [
    {
     "data": {
      "text/plain": [
       "array([0, 1, 2, 3], dtype=int32)"
      ]
     },
     "execution_count": 36,
     "metadata": {},
     "output_type": "execute_result"
    }
   ],
   "source": [
    "s.support_"
   ]
  },
  {
   "cell_type": "code",
   "execution_count": 3,
   "id": "dd3f3b0f",
   "metadata": {},
   "outputs": [
    {
     "data": {
      "text/plain": [
       "SVC(C=100000.0, kernel='linear')"
      ]
     },
     "execution_count": 3,
     "metadata": {},
     "output_type": "execute_result"
    }
   ],
   "source": [
    "a = [[1,0],[0,1],[-1,0],[0,-1],[2,0],[0,2],[-2,0],[0,-2]]\n",
    "b = [-1,-1,-1,-1,1,1,1,1]\n",
    "c = svm.SVC(C=1e5,kernel='linear')\n",
    "c.fit(a,b)"
   ]
  },
  {
   "cell_type": "code",
   "execution_count": 4,
   "id": "147b4c56",
   "metadata": {},
   "outputs": [
    {
     "data": {
      "text/plain": [
       "array([[0., 0.]])"
      ]
     },
     "execution_count": 4,
     "metadata": {},
     "output_type": "execute_result"
    }
   ],
   "source": [
    "c.coef_"
   ]
  },
  {
   "cell_type": "code",
   "execution_count": 6,
   "id": "019ce930",
   "metadata": {},
   "outputs": [
    {
     "data": {
      "text/plain": [
       "array([-0.])"
      ]
     },
     "execution_count": 6,
     "metadata": {},
     "output_type": "execute_result"
    }
   ],
   "source": [
    "c.intercept_"
   ]
  },
  {
   "cell_type": "code",
   "execution_count": 10,
   "id": "4d092018",
   "metadata": {},
   "outputs": [
    {
     "data": {
      "text/plain": [
       "array([0, 1, 2, 3, 4, 5, 6, 7], dtype=int32)"
      ]
     },
     "execution_count": 10,
     "metadata": {},
     "output_type": "execute_result"
    }
   ],
   "source": [
    "c.support_"
   ]
  }
 ],
 "metadata": {
  "kernelspec": {
   "display_name": "Python 3",
   "language": "python",
   "name": "python3"
  },
  "language_info": {
   "codemirror_mode": {
    "name": "ipython",
    "version": 3
   },
   "file_extension": ".py",
   "mimetype": "text/x-python",
   "name": "python",
   "nbconvert_exporter": "python",
   "pygments_lexer": "ipython3",
   "version": "3.8.8"
  }
 },
 "nbformat": 4,
 "nbformat_minor": 5
}
