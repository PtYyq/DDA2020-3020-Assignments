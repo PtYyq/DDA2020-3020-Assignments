{
 "cells": [
  {
   "cell_type": "code",
   "execution_count": 1,
   "id": "c474c152",
   "metadata": {},
   "outputs": [],
   "source": [
    "from sklearn.svm import LinearSVC\n",
    "from sklearn import svm\n",
    "from sklearn.multiclass import OneVsRestClassifier"
   ]
  },
  {
   "cell_type": "code",
   "execution_count": 2,
   "id": "56700fa2",
   "metadata": {},
   "outputs": [],
   "source": [
    "cl = OneVsRestClassifier(svm.SVC(C=1e5,kernel='linear'))"
   ]
  },
  {
   "cell_type": "code",
   "execution_count": 3,
   "id": "593dd138",
   "metadata": {},
   "outputs": [
    {
     "data": {
      "text/plain": [
       "OneVsRestClassifier(estimator=SVC(C=100000.0, kernel='linear'))"
      ]
     },
     "execution_count": 3,
     "metadata": {},
     "output_type": "execute_result"
    }
   ],
   "source": [
    "a = [[0,1],[1,0],[2,0]]\n",
    "b = [0,1,2]\n",
    "cl.fit(a,b)"
   ]
  },
  {
   "cell_type": "code",
   "execution_count": 4,
   "id": "9a1b63f1",
   "metadata": {},
   "outputs": [
    {
     "name": "stderr",
     "output_type": "stream",
     "text": [
      "/Users/yuyongqi/opt/anaconda3/lib/python3.8/site-packages/sklearn/utils/deprecation.py:101: FutureWarning: Attribute coef_ was deprecated in version 0.24 and will be removed in 1.1 (renaming of 0.26). If you observe this warning while using RFE or SelectFromModel, use the importance_getter parameter instead.\n",
      "  warnings.warn(msg, category=FutureWarning)\n"
     ]
    },
    {
     "data": {
      "text/plain": [
       "array([[-1.        ,  1.        ],\n",
       "       [-1.99902344, -3.99902344],\n",
       "       [ 2.        ,  0.        ]])"
      ]
     },
     "execution_count": 4,
     "metadata": {},
     "output_type": "execute_result"
    }
   ],
   "source": [
    "cl.coef_"
   ]
  },
  {
   "cell_type": "code",
   "execution_count": 8,
   "id": "7db97c49",
   "metadata": {},
   "outputs": [
    {
     "name": "stderr",
     "output_type": "stream",
     "text": [
      "/Users/yuyongqi/opt/anaconda3/lib/python3.8/site-packages/sklearn/utils/deprecation.py:101: FutureWarning: Attribute intercept_ was deprecated in version 0.24 and will be removed in 1.1 (renaming of 0.26). If you observe this warning while using RFE or SelectFromModel, use the importance_getter parameter instead.\n",
      "  warnings.warn(msg, category=FutureWarning)\n"
     ]
    },
    {
     "data": {
      "text/plain": [
       "array([[-0.        ],\n",
       "       [ 2.99869792],\n",
       "       [-3.        ]])"
      ]
     },
     "execution_count": 8,
     "metadata": {},
     "output_type": "execute_result"
    }
   ],
   "source": [
    "cl.intercept_"
   ]
  },
  {
   "cell_type": "code",
   "execution_count": 16,
   "id": "7f632f14",
   "metadata": {},
   "outputs": [
    {
     "data": {
      "text/plain": [
       "array([ 1, -1, -1])"
      ]
     },
     "execution_count": 16,
     "metadata": {},
     "output_type": "execute_result"
    }
   ],
   "source": [
    "cl.predict([[1.49,0],[1.51,0],[0,100]])"
   ]
  },
  {
   "cell_type": "code",
   "execution_count": 11,
   "id": "7b6eed9f",
   "metadata": {},
   "outputs": [
    {
     "data": {
      "text/plain": [
       "array([[-1.,  1.]])"
      ]
     },
     "execution_count": 11,
     "metadata": {},
     "output_type": "execute_result"
    }
   ],
   "source": [
    "cl.estimators_[0].coef_"
   ]
  },
  {
   "cell_type": "code",
   "execution_count": 18,
   "id": "e20ee92b",
   "metadata": {},
   "outputs": [
    {
     "data": {
      "text/plain": [
       "array([-1.00032552,  0.99967448, -0.99934896])"
      ]
     },
     "execution_count": 18,
     "metadata": {},
     "output_type": "execute_result"
    }
   ],
   "source": [
    "cl.decision_function(a)"
   ]
  },
  {
   "cell_type": "code",
   "execution_count": 19,
   "id": "ceb55326",
   "metadata": {},
   "outputs": [],
   "source": [
    "al = cl.dual_coef_"
   ]
  },
  {
   "cell_type": "code",
   "execution_count": 20,
   "id": "5c6628e4",
   "metadata": {},
   "outputs": [
    {
     "data": {
      "text/plain": [
       "array([[-3.99902344, -5.99804688,  9.99707031]])"
      ]
     },
     "execution_count": 20,
     "metadata": {},
     "output_type": "execute_result"
    }
   ],
   "source": [
    "al"
   ]
  },
  {
   "cell_type": "code",
   "execution_count": 21,
   "id": "edf56345",
   "metadata": {},
   "outputs": [
    {
     "data": {
      "text/plain": [
       "array([2.99869792])"
      ]
     },
     "execution_count": 21,
     "metadata": {},
     "output_type": "execute_result"
    }
   ],
   "source": [
    "cl.intercept_"
   ]
  },
  {
   "cell_type": "code",
   "execution_count": 16,
   "id": "bd8dc60a",
   "metadata": {},
   "outputs": [
    {
     "data": {
      "text/plain": [
       "SVC(C=100000.0, kernel='linear')"
      ]
     },
     "execution_count": 16,
     "metadata": {},
     "output_type": "execute_result"
    }
   ],
   "source": [
    "d = [0,1,0]\n",
    "c = svm.SVC(C=1e5,kernel='linear')\n",
    "c.fit(a,d)"
   ]
  },
  {
   "cell_type": "code",
   "execution_count": 7,
   "id": "4b221cec",
   "metadata": {},
   "outputs": [
    {
     "data": {
      "text/plain": [
       "array([[ 1., -1.]])"
      ]
     },
     "execution_count": 7,
     "metadata": {},
     "output_type": "execute_result"
    }
   ],
   "source": [
    "c.coef_"
   ]
  },
  {
   "cell_type": "code",
   "execution_count": 9,
   "id": "c11de7eb",
   "metadata": {},
   "outputs": [
    {
     "data": {
      "text/plain": [
       "array([-0.])"
      ]
     },
     "execution_count": 9,
     "metadata": {},
     "output_type": "execute_result"
    }
   ],
   "source": [
    "c.intercept_"
   ]
  },
  {
   "cell_type": "code",
   "execution_count": 18,
   "id": "1a3895c8",
   "metadata": {},
   "outputs": [
    {
     "data": {
      "text/plain": [
       "array([[-1. ,  1. ],\n",
       "       [-0.8,  0.4],\n",
       "       [-2. ,  0. ]])"
      ]
     },
     "execution_count": 18,
     "metadata": {},
     "output_type": "execute_result"
    }
   ],
   "source": [
    "c = svm.SVC(C=1e5,kernel='linear')\n",
    "c.fit(a,b)\n",
    "c.coef_"
   ]
  },
  {
   "cell_type": "code",
   "execution_count": 24,
   "id": "b5e51ed3",
   "metadata": {},
   "outputs": [],
   "source": [
    "p=cl.estimators_"
   ]
  },
  {
   "cell_type": "code",
   "execution_count": 26,
   "id": "e4ab4814",
   "metadata": {},
   "outputs": [
    {
     "data": {
      "text/plain": [
       "array([[-1.,  1.]])"
      ]
     },
     "execution_count": 26,
     "metadata": {},
     "output_type": "execute_result"
    }
   ],
   "source": [
    "p[0].coef_"
   ]
  },
  {
   "cell_type": "code",
   "execution_count": 23,
   "id": "9af1b141",
   "metadata": {},
   "outputs": [
    {
     "data": {
      "text/plain": [
       "array([0, 2, 1], dtype=int32)"
      ]
     },
     "execution_count": 23,
     "metadata": {},
     "output_type": "execute_result"
    }
   ],
   "source": [
    "c.fit(a,d)\n",
    "c.coef_\n",
    "c.support_"
   ]
  },
  {
   "cell_type": "code",
   "execution_count": null,
   "id": "f4044c1a",
   "metadata": {},
   "outputs": [],
   "source": [
    "# def aggregate(target,labels):\n",
    "#     result = []\n",
    "#     for i in range(len(labels)):\n",
    "#         if labels[i] != target:\n",
    "#             result.append(-1)\n",
    "#         else:\n",
    "#             result.append(target)\n",
    "#     return result\n",
    "# def predict(classifiers,X):\n",
    "#     s = []\n",
    "#     result = []\n",
    "#     for cl in classifiers:\n",
    "#         s.append(cl.predict(X))\n",
    "#     length = len(s[0])\n",
    "#     for i in range(length):\n",
    "#         for j in s:"
   ]
  }
 ],
 "metadata": {
  "kernelspec": {
   "display_name": "Python 3",
   "language": "python",
   "name": "python3"
  },
  "language_info": {
   "codemirror_mode": {
    "name": "ipython",
    "version": 3
   },
   "file_extension": ".py",
   "mimetype": "text/x-python",
   "name": "python",
   "nbconvert_exporter": "python",
   "pygments_lexer": "ipython3",
   "version": "3.8.8"
  }
 },
 "nbformat": 4,
 "nbformat_minor": 5
}
